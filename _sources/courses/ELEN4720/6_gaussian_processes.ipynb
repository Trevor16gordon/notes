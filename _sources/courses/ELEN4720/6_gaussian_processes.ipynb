{
 "cells": [
  {
   "cell_type": "markdown",
   "metadata": {},
   "source": [
    "# Gaussian Processes ML Model From Scratch"
   ]
  },
  {
   "cell_type": "code",
   "execution_count": null,
   "metadata": {},
   "outputs": [],
   "source": [
    "import pandas as pd\n",
    "import numpy as np\n",
    "from sklearn.model_selection import KFold\n",
    "import math\n",
    "import pdb"
   ]
  },
  {
   "cell_type": "markdown",
   "metadata": {},
   "source": [
    "# Load Data"
   ]
  },
  {
   "cell_type": "code",
   "execution_count": 10,
   "metadata": {},
   "outputs": [],
   "source": [
    "base_path = \"/Users/loreliegordon/Library/Mobile Documents/com~apple~CloudDocs/Documents/root/Columbia/Fall2021/ELEN4720/Assignments/assignment1/\"\n",
    "\n",
    "X_all = pd.read_csv(base_path + \"hw1-data/X_train.csv\", header=None)\n",
    "y_all = pd.read_csv(base_path + \"hw1-data/y_train.csv\", header=None)\n",
    "X_test = pd.read_csv(base_path + \"hw1-data/X_test.csv\", header=None)\n",
    "y_test = pd.read_csv(base_path + \"hw1-data/y_test.csv\", header=None)\n",
    "\n",
    "X_all = X_all.copy().to_numpy()\n",
    "y_all = y_all.copy().to_numpy()\n",
    "X_test = X_test.copy().to_numpy()\n",
    "y_test = y_test.copy().to_numpy()\n",
    "\n",
    "y_train = y_all\n",
    "X_train = X_all\n"
   ]
  },
  {
   "cell_type": "code",
   "execution_count": 56,
   "metadata": {},
   "outputs": [],
   "source": [
    "class GaussianProcesses():\n",
    "    \"\"\"Implementation of ridge regression from scratch.\n",
    "    \"\"\"\n",
    "\n",
    "    def __init__(self, sigma2=1, b=1) -> None:\n",
    "        self.X_maxs = None\n",
    "        self.X_means = None\n",
    "        self.kernel = self.gaussian_kernel\n",
    "        self.b = b\n",
    "        self.theta = 1/b\n",
    "        self.sigma2 = sigma2\n",
    "\n",
    "    def gaussian_kernel(self, A, B):\n",
    "\n",
    "        K = np.zeros((A.shape[0],B.shape[0]))\n",
    "        for i in range(A.shape[0]):\n",
    "            K[i,:] = np.exp(-np.sum(self.theta*(A[i,:]-B)**2, axis=1))\n",
    "        return K\n",
    "        \n",
    "\n",
    "    def no_kernel(self, A, B):\n",
    "        return A @ B.T\n",
    "\n",
    "    def fit(self, X, y):\n",
    "        \"\"\"Fit the model to training data\n",
    "\n",
    "        Args:\n",
    "            X (np.array): Training data. Columns for features. Rows for test instances.\n",
    "            y (np.array): Training target column. Must have same number of rows as X\n",
    "\n",
    "        Returns:\n",
    "            (np.array, np.array): Ridge regression weights, degrees of freedom.\n",
    "        \"\"\"\n",
    "        self.X = X\n",
    "        self.y = y\n",
    "        self.n, self.d = self.X.shape\n",
    "\n",
    "    def calc_means_and_stds(self, X):\n",
    "        \"\"\"Calculate and store the means and std.\n",
    "\n",
    "        These will be used to normalize new data\n",
    "\n",
    "        Args:\n",
    "            X (np.array): Training data\n",
    "        \"\"\"\n",
    "        self.X_maxs = X.max(axis=0)\n",
    "        self.X_means = X.mean(axis=0)\n",
    "        self.X_stds = X.std(axis=0)\n",
    "        self.X_means[self.X_stds == 0] = 0 # Don't want to subtract any means if variance is zero (for 1 column)\n",
    "        self.X_stds[self.X_stds == 0] = 1 # If STD is zero force it to one.\n",
    "\n",
    "    def prepare_X(self, X):\n",
    "        \"\"\"Prepares any X data for model usage\n",
    "\n",
    "        Subtract the column mean and normalize by variance.\n",
    "\n",
    "        Args:\n",
    "            X (np.array): Input array\n",
    "        \"\"\"\n",
    "        self.calc_means_and_stds(X)\n",
    "        if self.X_means is None:\n",
    "            raise ValueError(\"Need to calc_means_and_stds at least once before this function.\")\n",
    "        X = (X - self.X_means) / self.X_stds\n",
    "        return X\n",
    "\n",
    "    def predict(self, X_in):\n",
    "        \"\"\"Predict y values for new X input\n",
    "\n",
    "        Args:\n",
    "            X_in (np.array): New data. Must have same shape as data this was trained on.\n",
    "\n",
    "        Returns:\n",
    "            np.array: The predicted data\n",
    "        \"\"\"\n",
    "        part = np.linalg.inv(self.sigma2 * np.identity(self.n) + self.kernel(self.X, self.X))\n",
    "        mean_pred = self.kernel(self.X, X_in).T @ part @ self.y\n",
    "        return mean_pred"
   ]
  },
  {
   "cell_type": "code",
   "execution_count": 67,
   "metadata": {},
   "outputs": [
    {
     "ename": "AttributeError",
     "evalue": "module 'pandas' has no attribute 'DatFrame'",
     "output_type": "error",
     "traceback": [
      "\u001b[0;31m---------------------------------------------------------------------------\u001b[0m",
      "\u001b[0;31mAttributeError\u001b[0m                            Traceback (most recent call last)",
      "\u001b[0;32m/var/folders/w3/8cmbpqt17zgg1lcgbdw84r6c0000gn/T/ipykernel_19959/1324821165.py\u001b[0m in \u001b[0;36m<module>\u001b[0;34m\u001b[0m\n\u001b[1;32m     11\u001b[0m         \u001b[0mdata\u001b[0m\u001b[0;34m.\u001b[0m\u001b[0mappend\u001b[0m\u001b[0;34m(\u001b[0m\u001b[0;34m{\u001b[0m\u001b[0;34m\"sig\"\u001b[0m\u001b[0;34m:\u001b[0m \u001b[0msig\u001b[0m\u001b[0;34m,\u001b[0m \u001b[0;34m\"b\"\u001b[0m\u001b[0;34m:\u001b[0m \u001b[0mb\u001b[0m\u001b[0;34m,\u001b[0m \u001b[0;34m\"rmse\"\u001b[0m\u001b[0;34m:\u001b[0m\u001b[0mrmse\u001b[0m\u001b[0;34m}\u001b[0m\u001b[0;34m)\u001b[0m\u001b[0;34m\u001b[0m\u001b[0;34m\u001b[0m\u001b[0m\n\u001b[1;32m     12\u001b[0m \u001b[0;34m\u001b[0m\u001b[0m\n\u001b[0;32m---> 13\u001b[0;31m \u001b[0mdf\u001b[0m \u001b[0;34m=\u001b[0m \u001b[0mpd\u001b[0m\u001b[0;34m.\u001b[0m\u001b[0mDatFrame\u001b[0m\u001b[0;34m(\u001b[0m\u001b[0mdata\u001b[0m\u001b[0;34m)\u001b[0m\u001b[0;34m\u001b[0m\u001b[0;34m\u001b[0m\u001b[0m\n\u001b[0m",
      "\u001b[0;32m~/.virtualenvs/sandbox2/lib/python3.7/site-packages/pandas/__init__.py\u001b[0m in \u001b[0;36m__getattr__\u001b[0;34m(name)\u001b[0m\n\u001b[1;32m    242\u001b[0m         \u001b[0;32mreturn\u001b[0m \u001b[0m_SparseArray\u001b[0m\u001b[0;34m\u001b[0m\u001b[0;34m\u001b[0m\u001b[0m\n\u001b[1;32m    243\u001b[0m \u001b[0;34m\u001b[0m\u001b[0m\n\u001b[0;32m--> 244\u001b[0;31m     \u001b[0;32mraise\u001b[0m \u001b[0mAttributeError\u001b[0m\u001b[0;34m(\u001b[0m\u001b[0;34mf\"module 'pandas' has no attribute '{name}'\"\u001b[0m\u001b[0;34m)\u001b[0m\u001b[0;34m\u001b[0m\u001b[0;34m\u001b[0m\u001b[0m\n\u001b[0m\u001b[1;32m    245\u001b[0m \u001b[0;34m\u001b[0m\u001b[0m\n\u001b[1;32m    246\u001b[0m \u001b[0;34m\u001b[0m\u001b[0m\n",
      "\u001b[0;31mAttributeError\u001b[0m: module 'pandas' has no attribute 'DatFrame'"
     ]
    }
   ],
   "source": [
    "\n",
    "data = []\n",
    "for b in range(5, 17, 2):\n",
    "    for i in range(10):\n",
    "        sig = (i+1)/10\n",
    "        rr = GaussianProcesses(sigma2=sig, b=b)\n",
    "\n",
    "        X_train_prepared = rr.prepare_X(X_train)\n",
    "        rr.fit(X_train_prepared, y_train)\n",
    "        y_pred = rr.predict(X_test)\n",
    "        rmse = np.sqrt(sum((y_test - y_pred)**2)/len(y_pred))[0]\n",
    "        data.append({\"sig\": sig, \"b\": b, \"rmse\":rmse})\n",
    "\n",
    "df = pd.DataFrame(data)\n",
    "dfpiv = df.pivot(values=\"rmse\", index=\"b\", columns=\"sig\")\n",
    "dfpiv"
   ]
  },
  {
   "cell_type": "code",
   "execution_count": 131,
   "metadata": {},
   "outputs": [
    {
     "data": {
      "text/html": [
       "<div>\n",
       "<style scoped>\n",
       "    .dataframe tbody tr th:only-of-type {\n",
       "        vertical-align: middle;\n",
       "    }\n",
       "\n",
       "    .dataframe tbody tr th {\n",
       "        vertical-align: top;\n",
       "    }\n",
       "\n",
       "    .dataframe thead th {\n",
       "        text-align: right;\n",
       "    }\n",
       "</style>\n",
       "<table border=\"1\" class=\"dataframe\">\n",
       "  <thead>\n",
       "    <tr style=\"text-align: right;\">\n",
       "      <th>sig</th>\n",
       "      <th>0.1</th>\n",
       "      <th>0.2</th>\n",
       "      <th>0.3</th>\n",
       "      <th>0.4</th>\n",
       "      <th>0.5</th>\n",
       "      <th>0.6</th>\n",
       "      <th>0.7</th>\n",
       "      <th>0.8</th>\n",
       "      <th>0.9</th>\n",
       "      <th>1.0</th>\n",
       "    </tr>\n",
       "    <tr>\n",
       "      <th>b</th>\n",
       "      <th></th>\n",
       "      <th></th>\n",
       "      <th></th>\n",
       "      <th></th>\n",
       "      <th></th>\n",
       "      <th></th>\n",
       "      <th></th>\n",
       "      <th></th>\n",
       "      <th></th>\n",
       "      <th></th>\n",
       "    </tr>\n",
       "  </thead>\n",
       "  <tbody>\n",
       "    <tr>\n",
       "      <th>5</th>\n",
       "      <td>1.975933</td>\n",
       "      <td>1.936345</td>\n",
       "      <td>1.923342</td>\n",
       "      <td>1.919783</td>\n",
       "      <td>1.920475</td>\n",
       "      <td>1.923312</td>\n",
       "      <td>1.927312</td>\n",
       "      <td>1.931976</td>\n",
       "      <td>1.937034</td>\n",
       "      <td>1.942334</td>\n",
       "    </tr>\n",
       "    <tr>\n",
       "      <th>7</th>\n",
       "      <td>1.927620</td>\n",
       "      <td>1.909913</td>\n",
       "      <td>1.911403</td>\n",
       "      <td>1.917795</td>\n",
       "      <td>1.925456</td>\n",
       "      <td>1.933253</td>\n",
       "      <td>1.940816</td>\n",
       "      <td>1.948040</td>\n",
       "      <td>1.954922</td>\n",
       "      <td>1.961495</td>\n",
       "    </tr>\n",
       "    <tr>\n",
       "      <th>9</th>\n",
       "      <td>1.907233</td>\n",
       "      <td>1.910483</td>\n",
       "      <td>1.924117</td>\n",
       "      <td>1.937733</td>\n",
       "      <td>1.949864</td>\n",
       "      <td>1.960490</td>\n",
       "      <td>1.969857</td>\n",
       "      <td>1.978224</td>\n",
       "      <td>1.985811</td>\n",
       "      <td>1.992796</td>\n",
       "    </tr>\n",
       "    <tr>\n",
       "      <th>11</th>\n",
       "      <td>1.902687</td>\n",
       "      <td>1.925183</td>\n",
       "      <td>1.947469</td>\n",
       "      <td>1.965349</td>\n",
       "      <td>1.979662</td>\n",
       "      <td>1.991398</td>\n",
       "      <td>2.001297</td>\n",
       "      <td>2.009883</td>\n",
       "      <td>2.017524</td>\n",
       "      <td>2.024480</td>\n",
       "    </tr>\n",
       "    <tr>\n",
       "      <th>13</th>\n",
       "      <td>1.909892</td>\n",
       "      <td>1.947134</td>\n",
       "      <td>1.974492</td>\n",
       "      <td>1.994221</td>\n",
       "      <td>2.009113</td>\n",
       "      <td>2.020905</td>\n",
       "      <td>2.030658</td>\n",
       "      <td>2.039039</td>\n",
       "      <td>2.046482</td>\n",
       "      <td>2.053277</td>\n",
       "    </tr>\n",
       "    <tr>\n",
       "      <th>15</th>\n",
       "      <td>1.924686</td>\n",
       "      <td>1.971769</td>\n",
       "      <td>2.001363</td>\n",
       "      <td>2.021328</td>\n",
       "      <td>2.035884</td>\n",
       "      <td>2.047219</td>\n",
       "      <td>2.056548</td>\n",
       "      <td>2.064587</td>\n",
       "      <td>2.071777</td>\n",
       "      <td>2.078402</td>\n",
       "    </tr>\n",
       "  </tbody>\n",
       "</table>\n",
       "</div>"
      ],
      "text/plain": [
       "sig       0.1       0.2       0.3       0.4       0.5       0.6       0.7  \\\n",
       "b                                                                           \n",
       "5    1.975933  1.936345  1.923342  1.919783  1.920475  1.923312  1.927312   \n",
       "7    1.927620  1.909913  1.911403  1.917795  1.925456  1.933253  1.940816   \n",
       "9    1.907233  1.910483  1.924117  1.937733  1.949864  1.960490  1.969857   \n",
       "11   1.902687  1.925183  1.947469  1.965349  1.979662  1.991398  2.001297   \n",
       "13   1.909892  1.947134  1.974492  1.994221  2.009113  2.020905  2.030658   \n",
       "15   1.924686  1.971769  2.001363  2.021328  2.035884  2.047219  2.056548   \n",
       "\n",
       "sig       0.8       0.9       1.0  \n",
       "b                                  \n",
       "5    1.931976  1.937034  1.942334  \n",
       "7    1.948040  1.954922  1.961495  \n",
       "9    1.978224  1.985811  1.992796  \n",
       "11   2.009883  2.017524  2.024480  \n",
       "13   2.039039  2.046482  2.053277  \n",
       "15   2.064587  2.071777  2.078402  "
      ]
     },
     "execution_count": 131,
     "metadata": {},
     "output_type": "execute_result"
    }
   ],
   "source": [
    "dfpiv = df.pivot(values=\"rmse\", index=\"b\", columns=\"sig\")\n",
    "dfpiv"
   ]
  },
  {
   "cell_type": "code",
   "execution_count": 145,
   "metadata": {},
   "outputs": [
    {
     "data": {
      "application/vnd.plotly.v1+json": {
       "config": {
        "plotlyServerURL": "https://plot.ly"
       },
       "data": [
        {
         "colorscale": [
          [
           0,
           "rgb(255,255,217)"
          ],
          [
           0.125,
           "rgb(237,248,177)"
          ],
          [
           0.25,
           "rgb(199,233,180)"
          ],
          [
           0.375,
           "rgb(127,205,187)"
          ],
          [
           0.5,
           "rgb(65,182,196)"
          ],
          [
           0.625,
           "rgb(29,145,192)"
          ],
          [
           0.75,
           "rgb(34,94,168)"
          ],
          [
           0.875,
           "rgb(37,52,148)"
          ],
          [
           1,
           "rgb(8,29,88)"
          ]
         ],
         "reversescale": false,
         "showscale": false,
         "type": "heatmap",
         "x": [
          0.1,
          0.2,
          0.3,
          0.4,
          0.5,
          0.6,
          0.7,
          0.8,
          0.9,
          1
         ],
         "y": [
          5,
          7,
          9,
          11,
          13,
          15
         ],
         "z": [
          [
           1.976,
           1.936,
           1.923,
           1.92,
           1.92,
           1.923,
           1.927,
           1.932,
           1.937,
           1.942
          ],
          [
           1.928,
           1.91,
           1.911,
           1.918,
           1.925,
           1.933,
           1.941,
           1.948,
           1.955,
           1.961
          ],
          [
           1.907,
           1.91,
           1.924,
           1.938,
           1.95,
           1.96,
           1.97,
           1.978,
           1.986,
           1.993
          ],
          [
           1.903,
           1.925,
           1.947,
           1.965,
           1.98,
           1.991,
           2.001,
           2.01,
           2.018,
           2.024
          ],
          [
           1.91,
           1.947,
           1.974,
           1.994,
           2.009,
           2.021,
           2.031,
           2.039,
           2.046,
           2.053
          ],
          [
           1.925,
           1.972,
           2.001,
           2.021,
           2.036,
           2.047,
           2.057,
           2.065,
           2.072,
           2.078
          ]
         ]
        }
       ],
       "layout": {
        "annotations": [
         {
          "font": {
           "color": "#000000"
          },
          "showarrow": false,
          "text": "1.976",
          "x": 0.1,
          "xref": "x",
          "y": 5,
          "yref": "y"
         },
         {
          "font": {
           "color": "#000000"
          },
          "showarrow": false,
          "text": "1.936",
          "x": 0.2,
          "xref": "x",
          "y": 5,
          "yref": "y"
         },
         {
          "font": {
           "color": "#000000"
          },
          "showarrow": false,
          "text": "1.923",
          "x": 0.3,
          "xref": "x",
          "y": 5,
          "yref": "y"
         },
         {
          "font": {
           "color": "#000000"
          },
          "showarrow": false,
          "text": "1.92",
          "x": 0.4,
          "xref": "x",
          "y": 5,
          "yref": "y"
         },
         {
          "font": {
           "color": "#000000"
          },
          "showarrow": false,
          "text": "1.92",
          "x": 0.5,
          "xref": "x",
          "y": 5,
          "yref": "y"
         },
         {
          "font": {
           "color": "#000000"
          },
          "showarrow": false,
          "text": "1.923",
          "x": 0.6,
          "xref": "x",
          "y": 5,
          "yref": "y"
         },
         {
          "font": {
           "color": "#000000"
          },
          "showarrow": false,
          "text": "1.927",
          "x": 0.7,
          "xref": "x",
          "y": 5,
          "yref": "y"
         },
         {
          "font": {
           "color": "#000000"
          },
          "showarrow": false,
          "text": "1.932",
          "x": 0.8,
          "xref": "x",
          "y": 5,
          "yref": "y"
         },
         {
          "font": {
           "color": "#000000"
          },
          "showarrow": false,
          "text": "1.937",
          "x": 0.9,
          "xref": "x",
          "y": 5,
          "yref": "y"
         },
         {
          "font": {
           "color": "#000000"
          },
          "showarrow": false,
          "text": "1.942",
          "x": 1,
          "xref": "x",
          "y": 5,
          "yref": "y"
         },
         {
          "font": {
           "color": "#000000"
          },
          "showarrow": false,
          "text": "1.928",
          "x": 0.1,
          "xref": "x",
          "y": 7,
          "yref": "y"
         },
         {
          "font": {
           "color": "#000000"
          },
          "showarrow": false,
          "text": "1.91",
          "x": 0.2,
          "xref": "x",
          "y": 7,
          "yref": "y"
         },
         {
          "font": {
           "color": "#000000"
          },
          "showarrow": false,
          "text": "1.911",
          "x": 0.3,
          "xref": "x",
          "y": 7,
          "yref": "y"
         },
         {
          "font": {
           "color": "#000000"
          },
          "showarrow": false,
          "text": "1.918",
          "x": 0.4,
          "xref": "x",
          "y": 7,
          "yref": "y"
         },
         {
          "font": {
           "color": "#000000"
          },
          "showarrow": false,
          "text": "1.925",
          "x": 0.5,
          "xref": "x",
          "y": 7,
          "yref": "y"
         },
         {
          "font": {
           "color": "#000000"
          },
          "showarrow": false,
          "text": "1.933",
          "x": 0.6,
          "xref": "x",
          "y": 7,
          "yref": "y"
         },
         {
          "font": {
           "color": "#000000"
          },
          "showarrow": false,
          "text": "1.941",
          "x": 0.7,
          "xref": "x",
          "y": 7,
          "yref": "y"
         },
         {
          "font": {
           "color": "#000000"
          },
          "showarrow": false,
          "text": "1.948",
          "x": 0.8,
          "xref": "x",
          "y": 7,
          "yref": "y"
         },
         {
          "font": {
           "color": "#000000"
          },
          "showarrow": false,
          "text": "1.955",
          "x": 0.9,
          "xref": "x",
          "y": 7,
          "yref": "y"
         },
         {
          "font": {
           "color": "#000000"
          },
          "showarrow": false,
          "text": "1.961",
          "x": 1,
          "xref": "x",
          "y": 7,
          "yref": "y"
         },
         {
          "font": {
           "color": "#000000"
          },
          "showarrow": false,
          "text": "1.907",
          "x": 0.1,
          "xref": "x",
          "y": 9,
          "yref": "y"
         },
         {
          "font": {
           "color": "#000000"
          },
          "showarrow": false,
          "text": "1.91",
          "x": 0.2,
          "xref": "x",
          "y": 9,
          "yref": "y"
         },
         {
          "font": {
           "color": "#000000"
          },
          "showarrow": false,
          "text": "1.924",
          "x": 0.3,
          "xref": "x",
          "y": 9,
          "yref": "y"
         },
         {
          "font": {
           "color": "#000000"
          },
          "showarrow": false,
          "text": "1.938",
          "x": 0.4,
          "xref": "x",
          "y": 9,
          "yref": "y"
         },
         {
          "font": {
           "color": "#000000"
          },
          "showarrow": false,
          "text": "1.95",
          "x": 0.5,
          "xref": "x",
          "y": 9,
          "yref": "y"
         },
         {
          "font": {
           "color": "#000000"
          },
          "showarrow": false,
          "text": "1.96",
          "x": 0.6,
          "xref": "x",
          "y": 9,
          "yref": "y"
         },
         {
          "font": {
           "color": "#000000"
          },
          "showarrow": false,
          "text": "1.97",
          "x": 0.7,
          "xref": "x",
          "y": 9,
          "yref": "y"
         },
         {
          "font": {
           "color": "#000000"
          },
          "showarrow": false,
          "text": "1.978",
          "x": 0.8,
          "xref": "x",
          "y": 9,
          "yref": "y"
         },
         {
          "font": {
           "color": "#000000"
          },
          "showarrow": false,
          "text": "1.986",
          "x": 0.9,
          "xref": "x",
          "y": 9,
          "yref": "y"
         },
         {
          "font": {
           "color": "#FFFFFF"
          },
          "showarrow": false,
          "text": "1.993",
          "x": 1,
          "xref": "x",
          "y": 9,
          "yref": "y"
         },
         {
          "font": {
           "color": "#000000"
          },
          "showarrow": false,
          "text": "1.903",
          "x": 0.1,
          "xref": "x",
          "y": 11,
          "yref": "y"
         },
         {
          "font": {
           "color": "#000000"
          },
          "showarrow": false,
          "text": "1.925",
          "x": 0.2,
          "xref": "x",
          "y": 11,
          "yref": "y"
         },
         {
          "font": {
           "color": "#000000"
          },
          "showarrow": false,
          "text": "1.947",
          "x": 0.3,
          "xref": "x",
          "y": 11,
          "yref": "y"
         },
         {
          "font": {
           "color": "#000000"
          },
          "showarrow": false,
          "text": "1.965",
          "x": 0.4,
          "xref": "x",
          "y": 11,
          "yref": "y"
         },
         {
          "font": {
           "color": "#000000"
          },
          "showarrow": false,
          "text": "1.98",
          "x": 0.5,
          "xref": "x",
          "y": 11,
          "yref": "y"
         },
         {
          "font": {
           "color": "#FFFFFF"
          },
          "showarrow": false,
          "text": "1.991",
          "x": 0.6,
          "xref": "x",
          "y": 11,
          "yref": "y"
         },
         {
          "font": {
           "color": "#FFFFFF"
          },
          "showarrow": false,
          "text": "2.001",
          "x": 0.7,
          "xref": "x",
          "y": 11,
          "yref": "y"
         },
         {
          "font": {
           "color": "#FFFFFF"
          },
          "showarrow": false,
          "text": "2.01",
          "x": 0.8,
          "xref": "x",
          "y": 11,
          "yref": "y"
         },
         {
          "font": {
           "color": "#FFFFFF"
          },
          "showarrow": false,
          "text": "2.018",
          "x": 0.9,
          "xref": "x",
          "y": 11,
          "yref": "y"
         },
         {
          "font": {
           "color": "#FFFFFF"
          },
          "showarrow": false,
          "text": "2.024",
          "x": 1,
          "xref": "x",
          "y": 11,
          "yref": "y"
         },
         {
          "font": {
           "color": "#000000"
          },
          "showarrow": false,
          "text": "1.91",
          "x": 0.1,
          "xref": "x",
          "y": 13,
          "yref": "y"
         },
         {
          "font": {
           "color": "#000000"
          },
          "showarrow": false,
          "text": "1.947",
          "x": 0.2,
          "xref": "x",
          "y": 13,
          "yref": "y"
         },
         {
          "font": {
           "color": "#000000"
          },
          "showarrow": false,
          "text": "1.974",
          "x": 0.3,
          "xref": "x",
          "y": 13,
          "yref": "y"
         },
         {
          "font": {
           "color": "#FFFFFF"
          },
          "showarrow": false,
          "text": "1.994",
          "x": 0.4,
          "xref": "x",
          "y": 13,
          "yref": "y"
         },
         {
          "font": {
           "color": "#FFFFFF"
          },
          "showarrow": false,
          "text": "2.009",
          "x": 0.5,
          "xref": "x",
          "y": 13,
          "yref": "y"
         },
         {
          "font": {
           "color": "#FFFFFF"
          },
          "showarrow": false,
          "text": "2.021",
          "x": 0.6,
          "xref": "x",
          "y": 13,
          "yref": "y"
         },
         {
          "font": {
           "color": "#FFFFFF"
          },
          "showarrow": false,
          "text": "2.031",
          "x": 0.7,
          "xref": "x",
          "y": 13,
          "yref": "y"
         },
         {
          "font": {
           "color": "#FFFFFF"
          },
          "showarrow": false,
          "text": "2.039",
          "x": 0.8,
          "xref": "x",
          "y": 13,
          "yref": "y"
         },
         {
          "font": {
           "color": "#FFFFFF"
          },
          "showarrow": false,
          "text": "2.046",
          "x": 0.9,
          "xref": "x",
          "y": 13,
          "yref": "y"
         },
         {
          "font": {
           "color": "#FFFFFF"
          },
          "showarrow": false,
          "text": "2.053",
          "x": 1,
          "xref": "x",
          "y": 13,
          "yref": "y"
         },
         {
          "font": {
           "color": "#000000"
          },
          "showarrow": false,
          "text": "1.925",
          "x": 0.1,
          "xref": "x",
          "y": 15,
          "yref": "y"
         },
         {
          "font": {
           "color": "#000000"
          },
          "showarrow": false,
          "text": "1.972",
          "x": 0.2,
          "xref": "x",
          "y": 15,
          "yref": "y"
         },
         {
          "font": {
           "color": "#FFFFFF"
          },
          "showarrow": false,
          "text": "2.001",
          "x": 0.3,
          "xref": "x",
          "y": 15,
          "yref": "y"
         },
         {
          "font": {
           "color": "#FFFFFF"
          },
          "showarrow": false,
          "text": "2.021",
          "x": 0.4,
          "xref": "x",
          "y": 15,
          "yref": "y"
         },
         {
          "font": {
           "color": "#FFFFFF"
          },
          "showarrow": false,
          "text": "2.036",
          "x": 0.5,
          "xref": "x",
          "y": 15,
          "yref": "y"
         },
         {
          "font": {
           "color": "#FFFFFF"
          },
          "showarrow": false,
          "text": "2.047",
          "x": 0.6,
          "xref": "x",
          "y": 15,
          "yref": "y"
         },
         {
          "font": {
           "color": "#FFFFFF"
          },
          "showarrow": false,
          "text": "2.057",
          "x": 0.7,
          "xref": "x",
          "y": 15,
          "yref": "y"
         },
         {
          "font": {
           "color": "#FFFFFF"
          },
          "showarrow": false,
          "text": "2.065",
          "x": 0.8,
          "xref": "x",
          "y": 15,
          "yref": "y"
         },
         {
          "font": {
           "color": "#FFFFFF"
          },
          "showarrow": false,
          "text": "2.072",
          "x": 0.9,
          "xref": "x",
          "y": 15,
          "yref": "y"
         },
         {
          "font": {
           "color": "#FFFFFF"
          },
          "showarrow": false,
          "text": "2.078",
          "x": 1,
          "xref": "x",
          "y": 15,
          "yref": "y"
         }
        ],
        "template": {
         "data": {
          "bar": [
           {
            "error_x": {
             "color": "#2a3f5f"
            },
            "error_y": {
             "color": "#2a3f5f"
            },
            "marker": {
             "line": {
              "color": "#E5ECF6",
              "width": 0.5
             },
             "pattern": {
              "fillmode": "overlay",
              "size": 10,
              "solidity": 0.2
             }
            },
            "type": "bar"
           }
          ],
          "barpolar": [
           {
            "marker": {
             "line": {
              "color": "#E5ECF6",
              "width": 0.5
             },
             "pattern": {
              "fillmode": "overlay",
              "size": 10,
              "solidity": 0.2
             }
            },
            "type": "barpolar"
           }
          ],
          "carpet": [
           {
            "aaxis": {
             "endlinecolor": "#2a3f5f",
             "gridcolor": "white",
             "linecolor": "white",
             "minorgridcolor": "white",
             "startlinecolor": "#2a3f5f"
            },
            "baxis": {
             "endlinecolor": "#2a3f5f",
             "gridcolor": "white",
             "linecolor": "white",
             "minorgridcolor": "white",
             "startlinecolor": "#2a3f5f"
            },
            "type": "carpet"
           }
          ],
          "choropleth": [
           {
            "colorbar": {
             "outlinewidth": 0,
             "ticks": ""
            },
            "type": "choropleth"
           }
          ],
          "contour": [
           {
            "colorbar": {
             "outlinewidth": 0,
             "ticks": ""
            },
            "colorscale": [
             [
              0,
              "#0d0887"
             ],
             [
              0.1111111111111111,
              "#46039f"
             ],
             [
              0.2222222222222222,
              "#7201a8"
             ],
             [
              0.3333333333333333,
              "#9c179e"
             ],
             [
              0.4444444444444444,
              "#bd3786"
             ],
             [
              0.5555555555555556,
              "#d8576b"
             ],
             [
              0.6666666666666666,
              "#ed7953"
             ],
             [
              0.7777777777777778,
              "#fb9f3a"
             ],
             [
              0.8888888888888888,
              "#fdca26"
             ],
             [
              1,
              "#f0f921"
             ]
            ],
            "type": "contour"
           }
          ],
          "contourcarpet": [
           {
            "colorbar": {
             "outlinewidth": 0,
             "ticks": ""
            },
            "type": "contourcarpet"
           }
          ],
          "heatmap": [
           {
            "colorbar": {
             "outlinewidth": 0,
             "ticks": ""
            },
            "colorscale": [
             [
              0,
              "#0d0887"
             ],
             [
              0.1111111111111111,
              "#46039f"
             ],
             [
              0.2222222222222222,
              "#7201a8"
             ],
             [
              0.3333333333333333,
              "#9c179e"
             ],
             [
              0.4444444444444444,
              "#bd3786"
             ],
             [
              0.5555555555555556,
              "#d8576b"
             ],
             [
              0.6666666666666666,
              "#ed7953"
             ],
             [
              0.7777777777777778,
              "#fb9f3a"
             ],
             [
              0.8888888888888888,
              "#fdca26"
             ],
             [
              1,
              "#f0f921"
             ]
            ],
            "type": "heatmap"
           }
          ],
          "heatmapgl": [
           {
            "colorbar": {
             "outlinewidth": 0,
             "ticks": ""
            },
            "colorscale": [
             [
              0,
              "#0d0887"
             ],
             [
              0.1111111111111111,
              "#46039f"
             ],
             [
              0.2222222222222222,
              "#7201a8"
             ],
             [
              0.3333333333333333,
              "#9c179e"
             ],
             [
              0.4444444444444444,
              "#bd3786"
             ],
             [
              0.5555555555555556,
              "#d8576b"
             ],
             [
              0.6666666666666666,
              "#ed7953"
             ],
             [
              0.7777777777777778,
              "#fb9f3a"
             ],
             [
              0.8888888888888888,
              "#fdca26"
             ],
             [
              1,
              "#f0f921"
             ]
            ],
            "type": "heatmapgl"
           }
          ],
          "histogram": [
           {
            "marker": {
             "pattern": {
              "fillmode": "overlay",
              "size": 10,
              "solidity": 0.2
             }
            },
            "type": "histogram"
           }
          ],
          "histogram2d": [
           {
            "colorbar": {
             "outlinewidth": 0,
             "ticks": ""
            },
            "colorscale": [
             [
              0,
              "#0d0887"
             ],
             [
              0.1111111111111111,
              "#46039f"
             ],
             [
              0.2222222222222222,
              "#7201a8"
             ],
             [
              0.3333333333333333,
              "#9c179e"
             ],
             [
              0.4444444444444444,
              "#bd3786"
             ],
             [
              0.5555555555555556,
              "#d8576b"
             ],
             [
              0.6666666666666666,
              "#ed7953"
             ],
             [
              0.7777777777777778,
              "#fb9f3a"
             ],
             [
              0.8888888888888888,
              "#fdca26"
             ],
             [
              1,
              "#f0f921"
             ]
            ],
            "type": "histogram2d"
           }
          ],
          "histogram2dcontour": [
           {
            "colorbar": {
             "outlinewidth": 0,
             "ticks": ""
            },
            "colorscale": [
             [
              0,
              "#0d0887"
             ],
             [
              0.1111111111111111,
              "#46039f"
             ],
             [
              0.2222222222222222,
              "#7201a8"
             ],
             [
              0.3333333333333333,
              "#9c179e"
             ],
             [
              0.4444444444444444,
              "#bd3786"
             ],
             [
              0.5555555555555556,
              "#d8576b"
             ],
             [
              0.6666666666666666,
              "#ed7953"
             ],
             [
              0.7777777777777778,
              "#fb9f3a"
             ],
             [
              0.8888888888888888,
              "#fdca26"
             ],
             [
              1,
              "#f0f921"
             ]
            ],
            "type": "histogram2dcontour"
           }
          ],
          "mesh3d": [
           {
            "colorbar": {
             "outlinewidth": 0,
             "ticks": ""
            },
            "type": "mesh3d"
           }
          ],
          "parcoords": [
           {
            "line": {
             "colorbar": {
              "outlinewidth": 0,
              "ticks": ""
             }
            },
            "type": "parcoords"
           }
          ],
          "pie": [
           {
            "automargin": true,
            "type": "pie"
           }
          ],
          "scatter": [
           {
            "marker": {
             "colorbar": {
              "outlinewidth": 0,
              "ticks": ""
             }
            },
            "type": "scatter"
           }
          ],
          "scatter3d": [
           {
            "line": {
             "colorbar": {
              "outlinewidth": 0,
              "ticks": ""
             }
            },
            "marker": {
             "colorbar": {
              "outlinewidth": 0,
              "ticks": ""
             }
            },
            "type": "scatter3d"
           }
          ],
          "scattercarpet": [
           {
            "marker": {
             "colorbar": {
              "outlinewidth": 0,
              "ticks": ""
             }
            },
            "type": "scattercarpet"
           }
          ],
          "scattergeo": [
           {
            "marker": {
             "colorbar": {
              "outlinewidth": 0,
              "ticks": ""
             }
            },
            "type": "scattergeo"
           }
          ],
          "scattergl": [
           {
            "marker": {
             "colorbar": {
              "outlinewidth": 0,
              "ticks": ""
             }
            },
            "type": "scattergl"
           }
          ],
          "scattermapbox": [
           {
            "marker": {
             "colorbar": {
              "outlinewidth": 0,
              "ticks": ""
             }
            },
            "type": "scattermapbox"
           }
          ],
          "scatterpolar": [
           {
            "marker": {
             "colorbar": {
              "outlinewidth": 0,
              "ticks": ""
             }
            },
            "type": "scatterpolar"
           }
          ],
          "scatterpolargl": [
           {
            "marker": {
             "colorbar": {
              "outlinewidth": 0,
              "ticks": ""
             }
            },
            "type": "scatterpolargl"
           }
          ],
          "scatterternary": [
           {
            "marker": {
             "colorbar": {
              "outlinewidth": 0,
              "ticks": ""
             }
            },
            "type": "scatterternary"
           }
          ],
          "surface": [
           {
            "colorbar": {
             "outlinewidth": 0,
             "ticks": ""
            },
            "colorscale": [
             [
              0,
              "#0d0887"
             ],
             [
              0.1111111111111111,
              "#46039f"
             ],
             [
              0.2222222222222222,
              "#7201a8"
             ],
             [
              0.3333333333333333,
              "#9c179e"
             ],
             [
              0.4444444444444444,
              "#bd3786"
             ],
             [
              0.5555555555555556,
              "#d8576b"
             ],
             [
              0.6666666666666666,
              "#ed7953"
             ],
             [
              0.7777777777777778,
              "#fb9f3a"
             ],
             [
              0.8888888888888888,
              "#fdca26"
             ],
             [
              1,
              "#f0f921"
             ]
            ],
            "type": "surface"
           }
          ],
          "table": [
           {
            "cells": {
             "fill": {
              "color": "#EBF0F8"
             },
             "line": {
              "color": "white"
             }
            },
            "header": {
             "fill": {
              "color": "#C8D4E3"
             },
             "line": {
              "color": "white"
             }
            },
            "type": "table"
           }
          ]
         },
         "layout": {
          "annotationdefaults": {
           "arrowcolor": "#2a3f5f",
           "arrowhead": 0,
           "arrowwidth": 1
          },
          "autotypenumbers": "strict",
          "coloraxis": {
           "colorbar": {
            "outlinewidth": 0,
            "ticks": ""
           }
          },
          "colorscale": {
           "diverging": [
            [
             0,
             "#8e0152"
            ],
            [
             0.1,
             "#c51b7d"
            ],
            [
             0.2,
             "#de77ae"
            ],
            [
             0.3,
             "#f1b6da"
            ],
            [
             0.4,
             "#fde0ef"
            ],
            [
             0.5,
             "#f7f7f7"
            ],
            [
             0.6,
             "#e6f5d0"
            ],
            [
             0.7,
             "#b8e186"
            ],
            [
             0.8,
             "#7fbc41"
            ],
            [
             0.9,
             "#4d9221"
            ],
            [
             1,
             "#276419"
            ]
           ],
           "sequential": [
            [
             0,
             "#0d0887"
            ],
            [
             0.1111111111111111,
             "#46039f"
            ],
            [
             0.2222222222222222,
             "#7201a8"
            ],
            [
             0.3333333333333333,
             "#9c179e"
            ],
            [
             0.4444444444444444,
             "#bd3786"
            ],
            [
             0.5555555555555556,
             "#d8576b"
            ],
            [
             0.6666666666666666,
             "#ed7953"
            ],
            [
             0.7777777777777778,
             "#fb9f3a"
            ],
            [
             0.8888888888888888,
             "#fdca26"
            ],
            [
             1,
             "#f0f921"
            ]
           ],
           "sequentialminus": [
            [
             0,
             "#0d0887"
            ],
            [
             0.1111111111111111,
             "#46039f"
            ],
            [
             0.2222222222222222,
             "#7201a8"
            ],
            [
             0.3333333333333333,
             "#9c179e"
            ],
            [
             0.4444444444444444,
             "#bd3786"
            ],
            [
             0.5555555555555556,
             "#d8576b"
            ],
            [
             0.6666666666666666,
             "#ed7953"
            ],
            [
             0.7777777777777778,
             "#fb9f3a"
            ],
            [
             0.8888888888888888,
             "#fdca26"
            ],
            [
             1,
             "#f0f921"
            ]
           ]
          },
          "colorway": [
           "#636efa",
           "#EF553B",
           "#00cc96",
           "#ab63fa",
           "#FFA15A",
           "#19d3f3",
           "#FF6692",
           "#B6E880",
           "#FF97FF",
           "#FECB52"
          ],
          "font": {
           "color": "#2a3f5f"
          },
          "geo": {
           "bgcolor": "white",
           "lakecolor": "white",
           "landcolor": "#E5ECF6",
           "showlakes": true,
           "showland": true,
           "subunitcolor": "white"
          },
          "hoverlabel": {
           "align": "left"
          },
          "hovermode": "closest",
          "mapbox": {
           "style": "light"
          },
          "paper_bgcolor": "white",
          "plot_bgcolor": "#E5ECF6",
          "polar": {
           "angularaxis": {
            "gridcolor": "white",
            "linecolor": "white",
            "ticks": ""
           },
           "bgcolor": "#E5ECF6",
           "radialaxis": {
            "gridcolor": "white",
            "linecolor": "white",
            "ticks": ""
           }
          },
          "scene": {
           "xaxis": {
            "backgroundcolor": "#E5ECF6",
            "gridcolor": "white",
            "gridwidth": 2,
            "linecolor": "white",
            "showbackground": true,
            "ticks": "",
            "zerolinecolor": "white"
           },
           "yaxis": {
            "backgroundcolor": "#E5ECF6",
            "gridcolor": "white",
            "gridwidth": 2,
            "linecolor": "white",
            "showbackground": true,
            "ticks": "",
            "zerolinecolor": "white"
           },
           "zaxis": {
            "backgroundcolor": "#E5ECF6",
            "gridcolor": "white",
            "gridwidth": 2,
            "linecolor": "white",
            "showbackground": true,
            "ticks": "",
            "zerolinecolor": "white"
           }
          },
          "shapedefaults": {
           "line": {
            "color": "#2a3f5f"
           }
          },
          "ternary": {
           "aaxis": {
            "gridcolor": "white",
            "linecolor": "white",
            "ticks": ""
           },
           "baxis": {
            "gridcolor": "white",
            "linecolor": "white",
            "ticks": ""
           },
           "bgcolor": "#E5ECF6",
           "caxis": {
            "gridcolor": "white",
            "linecolor": "white",
            "ticks": ""
           }
          },
          "title": {
           "x": 0.05
          },
          "xaxis": {
           "automargin": true,
           "gridcolor": "white",
           "linecolor": "white",
           "ticks": "",
           "title": {
            "standoff": 15
           },
           "zerolinecolor": "white",
           "zerolinewidth": 2
          },
          "yaxis": {
           "automargin": true,
           "gridcolor": "white",
           "linecolor": "white",
           "ticks": "",
           "title": {
            "standoff": 15
           },
           "zerolinecolor": "white",
           "zerolinewidth": 2
          }
         }
        },
        "xaxis": {
         "dtick": 1,
         "gridcolor": "rgb(0, 0, 0)",
         "side": "top",
         "ticks": ""
        },
        "yaxis": {
         "dtick": 1,
         "ticks": "",
         "ticksuffix": "  "
        }
       }
      }
     },
     "metadata": {},
     "output_type": "display_data"
    }
   ],
   "source": [
    "import plotly.figure_factory as ff\n",
    "rounded = np.around(dfpiv.values, decimals=3)\n",
    "fig = ff.create_annotated_heatmap(rounded, y=dfpiv.index.tolist(), x=dfpiv.columns.tolist(), colorscale=\"YlGnBu\")\n",
    "fig.show()"
   ]
  },
  {
   "cell_type": "code",
   "execution_count": 140,
   "metadata": {},
   "outputs": [
    {
     "data": {
      "text/plain": [
       "[5, 7, 9, 11, 13, 15]"
      ]
     },
     "execution_count": 140,
     "metadata": {},
     "output_type": "execute_result"
    }
   ],
   "source": [
    "dfpiv.index.tolist()"
   ]
  },
  {
   "cell_type": "markdown",
   "metadata": {},
   "source": [
    "# Visualizing\n",
    "After retraining the model only using a single dimension, we can easily visualize a single dimension to see what the model is doing."
   ]
  },
  {
   "cell_type": "code",
   "execution_count": 125,
   "metadata": {},
   "outputs": [],
   "source": [
    "rr = GaussianProcesses(sigma2=2, b=5)\n",
    "\n",
    "X_train_prepared = rr.prepare_X(X_train)[:, 3]\n",
    "X_train_prepared = X_train_prepared.reshape(len(X_train_prepared), 1)\n",
    "rr.fit(X_train_prepared, y_train)\n",
    "\n",
    "X_test_using = X_test[:, 3]\n",
    "X_test_using = X_test_using.reshape(len(X_test_using), 1)\n",
    "x_stepped = np.arange(min(X_train_prepared), max(X_train_prepared), 0.1)\n",
    "x_stepped = x_stepped.reshape(len(x_stepped), 1)\n",
    "y_stepped = rr.predict(x_stepped)\n"
   ]
  },
  {
   "cell_type": "code",
   "execution_count": 126,
   "metadata": {},
   "outputs": [
    {
     "data": {
      "application/vnd.plotly.v1+json": {
       "config": {
        "plotlyServerURL": "https://plot.ly"
       },
       "data": [
        {
         "mode": "markers",
         "name": "training data",
         "type": "scatter",
         "x": [
          -0.18220879821390445,
          -0.020165642728961708,
          -1.2037941029093375,
          -0.542691460672114,
          -1.2296262168945284,
          -1.3646713224387323,
          -0.08474493031302116,
          -0.8620721379052377,
          0.11486849164714028,
          1.3994646118685528,
          -0.6248854573331025,
          0.5434541814079297,
          -0.9771497175041316,
          0.2921745367195494,
          0.5598909859822907,
          0.5833792595093661,
          -1.0534890999144222,
          1.644819825781951,
          -0.9536614439770562,
          -0.30549480631079534,
          -0.7364323155610475,
          -0.3430760439541159,
          1.7635079170652617,
          -1.0030217266460566,
          -0.4464044998948804,
          0.31800665070474055,
          -0.6201878026276874,
          -0.7657951509171875,
          0.4389488183435157,
          -0.4252700406151043,
          0.24285414920728293,
          -0.3078486205580946,
          0.4307304160563351,
          1.61898771179676,
          -0.947796855937175,
          -0.38416805539001836,
          0.5129244127173236,
          -0.12584691553810712,
          -0.7834088626151982,
          1.476960953824126,
          1.0976577511767058,
          -1.06994585206715,
          -1.3246764278130119,
          -0.8890811590140785,
          -0.5556075176647096,
          0.5563702384005252,
          -0.037779354426972334,
          1.0084422069305534,
          -0.9290062371155148,
          -0.818626312222036,
          2.0393829258800826,
          -0.5250777489741034,
          1.808090754715379,
          -0.15167902952329826,
          -0.8726443544397174,
          1.3842047144178413,
          1.7540328173409636,
          -0.9888589460055272,
          1.3148868795927147,
          -0.1141077656691612,
          0.7054983342717908,
          -0.06830912311757852,
          -1.5841944223669395,
          1.9865218432076839,
          -0.55443061054106,
          0.6667501632940042,
          -0.31489011572162545,
          -0.7775343007861334,
          0.8957184415789587,
          -0.9771497175041316,
          -1.0006280172420234,
          -0.07300578044407524,
          0.7865154238091296,
          1.1482248623369062,
          1.471076418205878,
          -0.67067512347442,
          0.6550110134250582,
          -0.0002041010571618927,
          -0.8303754358801654,
          -0.6659874425581885,
          -0.982974410387279,
          -0.947796855937175,
          -0.5297754036795185,
          0.03267349760723348,
          -0.2784957589911381,
          1.6648671420407286,
          -0.24326833559511682,
          -0.6507175713182937,
          -1.3352486443474916,
          -1.1708805986038815,
          -1.1944187410768743,
          -0.575565069820836,
          0.9309458649749801,
          -0.2843603470310193,
          -0.8679466997343024,
          0.9074575914479048,
          -0.8409376786254616,
          -1.2178571456580323,
          -1.1297885871679791,
          0.09021029264884373,
          1.5638326576121626,
          0.01975724113885425,
          -0.020165642728961708,
          1.0917732155584576,
          1.5403942530310046,
          1.7141376606070777,
          1.4123307999152308,
          -0.600230250471561,
          -0.4722366138800715,
          -1.2002035388032877,
          -0.2843603470310193,
          -0.20334325749368048,
          0.764204057405704,
          -0.14932521527599898,
          -1.0710429688773322,
          -1.0429168833799425,
          -0.385344962513668,
          1.634347347139306,
          0.8334819970740968,
          0.06202935131094507,
          -0.06126363843837427,
          -0.8714674473160678,
          -1.041720028677926,
          1.2831702299892753,
          -0.8832165709741973,
          -1.2037941029093375,
          1.2890547656075233,
          2.3893631883280966,
          1.463995027885613,
          -1.1474421940227237,
          -0.971275155675067,
          -0.7775343007861334,
          0.06907383861123098,
          1.8034030737991475,
          -1.4174326672192965,
          -0.981877293577097,
          -0.20216635037003086,
          -0.034256612087370214,
          -0.4663620520510068,
          -1.5419055562290205,
          -0.7916272649023786,
          -0.48985032557808206,
          0.7724224596928845,
          1.4417534780064718,
          -0.45462290218206086,
          1.1094268224132022,
          -0.401781767088029,
          -1.1649960629856333,
          -1.3352486443474916,
          0.9567779789601712,
          2.339992931869913,
          -1.1708805986038815,
          0.9661732883710014,
          -0.19042720050108494,
          1.6671611135529272,
          0.12660963627392288,
          -0.014295070415570392,
          -1.188534205458626,
          -0.982974410387279,
          0.3039136865884953,
          1.6002369881318335,
          -1.3059257041480852,
          0.3544109812244114,
          -0.6835911804670156,
          -0.22095696919169114,
          -1.1474421940227237,
          -0.9066948707120891,
          -0.982974410387279,
          1.565029512314179,
          -0.4933710731598476,
          -0.6366246072020485,
          -0.2949325635654991,
          1.077710172809763,
          -1.0886965757320766,
          1.3313436317454426,
          0.6608756014649394,
          -0.1105770442982123,
          0.3755454405041875,
          -0.9372246394026952,
          -0.9841712650892954,
          -1.3705558580569805,
          -0.9090486849593883,
          0.7137167365589713,
          -0.5133385991051576,
          0.3708477857987724,
          1.0659411015732665,
          -0.8949557208431431,
          -0.6659874425581885,
          1.0307336257556123,
          -0.9419222941081102,
          0.14540025509558316,
          0.1442233479719335,
          -1.3646713224387323,
          0.5493287432369944,
          1.7352820936760374,
          -0.6777265924271344,
          -0.6507175713182937,
          -0.3430760439541159,
          2.002978595360412,
          -0.15519977710506366,
          -1.182649669840378,
          0.46713474657600607,
          0.5375895933680485,
          1.6706519397671422,
          -0.1728134888030743,
          -1.3705558580569805,
          0.8088267902125553,
          -1.126297760953764,
          -0.3336807345432858,
          0.0033186412824402316,
          -0.431144602444169,
          0.3379642028608669,
          2.2824441682812826,
          1.496908532191069,
          -0.947796855937175,
          -1.2859781257811425,
          -0.38416805539001836,
          0.22641734463292196,
          1.584977090681122,
          -0.5849603792316661,
          1.9618865839245092,
          -0.8773420091451325,
          -1.0123970884785196,
          1.5204466746640617,
          0.3614524763879423,
          0.5904207546728969,
          2.336502105655698,
          0.18649226653148562,
          -0.4346653500259345,
          0.7548187217840573,
          0.4729993346158873,
          1.9677711195427574,
          -1.1356731227862273,
          -0.9771497175041316,
          -0.9372246394026952,
          -0.8315423692146315,
          1.0072652998069038,
          -0.8421145857491112,
          1.6120060593683299,
          1.804599928501164,
          -0.2608820472931275,
          1.165778731299816,
          -0.9078717778357387,
          -0.44288375231311494,
          1.018964554519116,
          -0.7775343007861334,
          -0.037779354426972334,
          0.29099762959589975,
          1.1740569763220974,
          -1.3118102397663334,
          0.5716401096404201,
          0.2710400774397733,
          -1.100465646968573,
          0.2076267258112617,
          -0.34189913683046624,
          0.04793838195253658,
          -0.006075670749471551,
          -0.6542383189000591,
          -0.8021895076476749,
          -1.3963879720421715,
          2.078180965803787,
          -0.34072222970681665,
          -0.9595360058061209,
          -1.107447299397003,
          -0.4076563289170937,
          0.23229190646198666,
          -0.37830346735013715,
          -0.368908157939307,
          0.4906130463138979,
          -1.0534890999144222,
          -0.8597282974471219,
          -1.106350182586821,
          -0.8926019065958438,
          -0.6589359736054742,
          0.38258693566771834,
          0.3144859031229751,
          0.3320996148209857,
          1.3771233240975767,
          -0.7188186038630369,
          -0.8198032193456856,
          -0.8714674473160678,
          -0.818626312222036,
          0.2675193298580079,
          -0.19630176233014965,
          -0.25500748546406277,
          -1.1673897723896667,
          -0.014295070415570392,
          -1.047604564296174,
          -0.020165642728961708,
          -1.159111527367385,
          1.660179461124497,
          0.3555779145588776,
          -0.4581436497638263,
          -0.6847680875906652,
          -0.8644259521525369,
          1.2679103325385639,
          -0.9853681197913121,
          1.20457677122352,
          1.9407421508555496,
          2.0946377179565143,
          0.8240966614524501,
          0.05850660897134295,
          0.20880363293491133,
          2.0816717920180015,
          1.471076418205878,
          0.9015930034080235,
          -0.9771497175041316,
          -1.188534205458626,
          0.8017852950490244,
          2.5572220602859215,
          1.312592908080516,
          -1.3223824563008133,
          -0.6929864898778457,
          0.4917899534375475,
          -1.1474421940227237,
          -1.0299509574414296,
          1.2820731131790934,
          -1.1415576584044755,
          1.3337373411494755,
          0.636220394603398,
          0.16418090012805994,
          -0.9607129129297706,
          0.7184143912643863,
          -0.47693426858548654,
          0.02562831214170473,
          0.3990237402420793,
          -0.3489406319939971,
          -0.4933710731598476,
          1.5450819339472361,
          -0.5356499655085832,
          -1.0006280172420234,
          -0.7423068773901121,
          -1.0769275044955804,
          -0.6894657422960804,
          -1.1732743080079147,
          -1.153326729640972,
          1.6413289995677358,
          -0.0718308680782623,
          1.7552296720429803,
          1.1482248623369062,
          -0.2843603470310193,
          -0.4193954787860396,
          0.566942454935005,
          -1.159111527367385,
          1.3701416716691464,
          -1.1415576584044755,
          1.9901124073137335,
          0.5516725836951102,
          0.525840469709919,
          0.8957184415789587
         ],
         "y": [
          -3.4463,
          -5.4459,
          5.5541,
          11.554,
          12.254,
          12.654,
          -1.1459,
          1.5541,
          -3.2459,
          -9.4459,
          0.55408,
          -4.2459,
          13.854,
          -4.4459,
          -7.4459,
          -5.4459,
          8.8541,
          -10.446,
          11.054,
          0.55408,
          19.954,
          4.9541,
          -10.446,
          0.55408,
          -3.4459,
          -1.4459,
          13.554,
          -4.4459,
          -8.4459,
          -1.9459,
          -10.446,
          3.3541,
          -6.4459,
          -8.4459,
          6.5541,
          3.1541,
          -8.4459,
          0.35408,
          8.5541,
          -7.4459,
          -7.4459,
          7.0541,
          3.5541,
          12.554,
          0.55408,
          -5.4459,
          0.75408,
          -10.446,
          5.5541,
          8.7541,
          -10.446,
          -2.3459,
          -10.446,
          -1.4459,
          5.5541,
          -7.4459,
          -11.446,
          8.6541,
          -8.4459,
          0.55408,
          -8.4459,
          -0.44592,
          11.554,
          -10.446,
          3.7541,
          1.9541,
          -0.44592,
          2.0541,
          3.1541,
          3.5541,
          23.154,
          1.9541,
          -7.4459,
          -4.9459,
          -5.9459,
          2.5541,
          -5.9459,
          -5.4459,
          2.5541,
          10.554,
          14.554,
          6.5541,
          -1.4459,
          -3.6459,
          0.054082,
          -6.9459,
          2.0541,
          -3.4459,
          12.554,
          14.554,
          10.054,
          -2.4459,
          -10.446,
          1.6541,
          1.5541,
          -4.0459,
          2.5541,
          8.4541,
          7.5541,
          -2.4459,
          -10.446,
          -2.4459,
          1.5541,
          -8.4459,
          -10.446,
          -10.446,
          -7.9459,
          2.5541,
          4.0541,
          5.5541,
          -1.9459,
          -5.4459,
          -5.4459,
          -1.4459,
          14.254,
          6.5541,
          -4.4459,
          -9.4459,
          -9.4459,
          14.554,
          9.2541,
          1.5541,
          10.054,
          -10.446,
          10.254,
          5.5541,
          -6.4459,
          -12.446,
          -9.4459,
          6.5541,
          6.0541,
          3.7541,
          -5.4459,
          -7.4459,
          15.654,
          1.5541,
          3.5541,
          -5.4459,
          3.0541,
          7.5541,
          4.5541,
          0.55408,
          -4.8459,
          -7.4459,
          7.5541,
          -6.4459,
          2.3541,
          7.5541,
          6.0541,
          -8.4459,
          -11.446,
          8.5541,
          -5.4459,
          4.4541,
          -12.446,
          -2.6459,
          12.954,
          7.5541,
          4.5541,
          -3.4459,
          -7.9459,
          21.154,
          -4.4459,
          6.4541,
          -5.4459,
          10.654,
          7.0541,
          12.554,
          -8.4459,
          1.5541,
          0.25408,
          6.3541,
          -5.9459,
          5.5541,
          -9.4459,
          -4.9459,
          -4.4459,
          -4.4459,
          1.0541,
          -5.4459,
          9.5541,
          10.854,
          -3.2459,
          5.5541,
          -7.4459,
          -10.446,
          10.754,
          -1.4459,
          -6.4459,
          12.554,
          -9.4459,
          -0.94592,
          12.654,
          -2.9459,
          -8.4459,
          6.5541,
          -1.4459,
          3.9541,
          -7.4459,
          -3.1459,
          2.5541,
          -2.8459,
          0.45408,
          -9.4459,
          -1.4459,
          9.5541,
          -3.4459,
          8.5541,
          4.5541,
          -3.2459,
          5.3541,
          6.5541,
          -11.446,
          -9.4459,
          4.5541,
          5.5541,
          8.1541,
          -2.9459,
          -9.4459,
          4.5541,
          -12.446,
          11.254,
          3.5541,
          -9.4459,
          -4.4459,
          -5.8459,
          -11.446,
          -5.4459,
          -0.44592,
          -4.2459,
          -3.5459,
          -9.4459,
          14.554,
          20.554,
          4.5541,
          -0.44592,
          -6.9459,
          10.554,
          -7.4459,
          -11.446,
          1.0541,
          -6.9459,
          2.5541,
          2.5541,
          -5.2459,
          2.5541,
          -4.4459,
          -4.0459,
          -7.9459,
          6.3541,
          -6.4459,
          -5.9459,
          13.554,
          -5.4459,
          1.5541,
          0.85408,
          -0.44592,
          0.45408,
          -3.4459,
          7.5541,
          -14.446,
          1.5541,
          10.354,
          13.754,
          9.4541,
          7.2541,
          3.5541,
          -2.4459,
          -2.8459,
          6.5541,
          7.4541,
          8.3541,
          3.5541,
          -2.4459,
          -5.4459,
          4.6541,
          -1.9459,
          -8.4459,
          8.9541,
          4.5541,
          -0.44592,
          2.5541,
          3.7541,
          -1.8459,
          -0.24592,
          14.654,
          3.5541,
          15.954,
          -1.4459,
          13.554,
          -13.446,
          -3.2459,
          1.5541,
          -1.4459,
          -2.4459,
          -9.4459,
          4.5541,
          -10.446,
          -13.446,
          -10.446,
          -12.446,
          0.55408,
          -6.4459,
          -10.446,
          -8.9459,
          -8.4459,
          3.5541,
          2.5541,
          -4.9459,
          -10.446,
          -5.9459,
          8.5541,
          0.55408,
          -4.3459,
          19.654,
          20.854,
          -7.9459,
          8.5541,
          -10.446,
          -5.4459,
          -3.4459,
          18.054,
          -5.4459,
          10.054,
          -5.4459,
          -4.4459,
          8.5541,
          7.8541,
          -7.4459,
          -0.44592,
          17.354,
          -4.4459,
          8.0541,
          1.5541,
          2.5541,
          12.554,
          -6.5459,
          -4.4459,
          -9.4459,
          -10.446,
          7.5541,
          4.5541,
          -5.7459,
          10.654,
          -9.4459,
          8.0541,
          -9.4459,
          -8.4459,
          -7.2459,
          -5.8459
         ]
        },
        {
         "mode": "lines",
         "name": "prediction",
         "type": "scatter",
         "x": [
          -1.5841944223669395,
          -1.4841944223669394,
          -1.3841944223669393,
          -1.2841944223669393,
          -1.1841944223669392,
          -1.084194422366939,
          -0.984194422366939,
          -0.8841944223669389,
          -0.7841944223669388,
          -0.6841944223669387,
          -0.5841944223669386,
          -0.48419442236693855,
          -0.38419442236693846,
          -0.28419442236693837,
          -0.18419442236693828,
          -0.08419442236693819,
          0.015805577633061896,
          0.11580557763306198,
          0.21580557763306207,
          0.31580557763306216,
          0.41580557763306225,
          0.5158055776330623,
          0.6158055776330624,
          0.7158055776330625,
          0.8158055776330626,
          0.9158055776330627,
          1.0158055776330628,
          1.1158055776330629,
          1.215805577633063,
          1.315805577633063,
          1.4158055776330631,
          1.5158055776330632,
          1.6158055776330633,
          1.7158055776330634,
          1.8158055776330635,
          1.9158055776330636,
          2.0158055776330635,
          2.115805577633064,
          2.2158055776330636,
          2.315805577633064,
          2.415805577633064,
          2.5158055776330635
         ],
         "y": [
          10.32467388695277,
          9.945156332160634,
          9.49730190914186,
          8.984460765058849,
          8.410835361671218,
          7.781396854436858,
          7.101784631438575,
          6.378192112910936,
          5.617242365228732,
          4.8258573978091395,
          4.011125173112782,
          3.180168361514167,
          2.34001871445167,
          1.4975006187389175,
          0.6591269472030759,
          -0.16899024265135176,
          -0.981212262679988,
          -1.7724284121756786,
          -2.538092206990215,
          -3.274239493632733,
          -3.977489407763895,
          -4.645029750584657,
          -5.274588873562549,
          -5.864396561464128,
          -6.413136671861629,
          -6.919894419158473,
          -7.384101182781679,
          -7.805479579424301,
          -8.1839912812005,
          -8.51978970374524,
          -8.813179253238506,
          -9.064582334442928,
          -9.274514809849197,
          -9.443570089560742,
          -9.5724115477449,
          -9.661772526758345,
          -9.712462823065097,
          -9.72538026394993,
          -9.701525789921762,
          -9.642020358542721,
          -9.5481219800891,
          -9.421241278114387
         ]
        }
       ],
       "layout": {
        "template": {
         "data": {
          "bar": [
           {
            "error_x": {
             "color": "#2a3f5f"
            },
            "error_y": {
             "color": "#2a3f5f"
            },
            "marker": {
             "line": {
              "color": "#E5ECF6",
              "width": 0.5
             },
             "pattern": {
              "fillmode": "overlay",
              "size": 10,
              "solidity": 0.2
             }
            },
            "type": "bar"
           }
          ],
          "barpolar": [
           {
            "marker": {
             "line": {
              "color": "#E5ECF6",
              "width": 0.5
             },
             "pattern": {
              "fillmode": "overlay",
              "size": 10,
              "solidity": 0.2
             }
            },
            "type": "barpolar"
           }
          ],
          "carpet": [
           {
            "aaxis": {
             "endlinecolor": "#2a3f5f",
             "gridcolor": "white",
             "linecolor": "white",
             "minorgridcolor": "white",
             "startlinecolor": "#2a3f5f"
            },
            "baxis": {
             "endlinecolor": "#2a3f5f",
             "gridcolor": "white",
             "linecolor": "white",
             "minorgridcolor": "white",
             "startlinecolor": "#2a3f5f"
            },
            "type": "carpet"
           }
          ],
          "choropleth": [
           {
            "colorbar": {
             "outlinewidth": 0,
             "ticks": ""
            },
            "type": "choropleth"
           }
          ],
          "contour": [
           {
            "colorbar": {
             "outlinewidth": 0,
             "ticks": ""
            },
            "colorscale": [
             [
              0,
              "#0d0887"
             ],
             [
              0.1111111111111111,
              "#46039f"
             ],
             [
              0.2222222222222222,
              "#7201a8"
             ],
             [
              0.3333333333333333,
              "#9c179e"
             ],
             [
              0.4444444444444444,
              "#bd3786"
             ],
             [
              0.5555555555555556,
              "#d8576b"
             ],
             [
              0.6666666666666666,
              "#ed7953"
             ],
             [
              0.7777777777777778,
              "#fb9f3a"
             ],
             [
              0.8888888888888888,
              "#fdca26"
             ],
             [
              1,
              "#f0f921"
             ]
            ],
            "type": "contour"
           }
          ],
          "contourcarpet": [
           {
            "colorbar": {
             "outlinewidth": 0,
             "ticks": ""
            },
            "type": "contourcarpet"
           }
          ],
          "heatmap": [
           {
            "colorbar": {
             "outlinewidth": 0,
             "ticks": ""
            },
            "colorscale": [
             [
              0,
              "#0d0887"
             ],
             [
              0.1111111111111111,
              "#46039f"
             ],
             [
              0.2222222222222222,
              "#7201a8"
             ],
             [
              0.3333333333333333,
              "#9c179e"
             ],
             [
              0.4444444444444444,
              "#bd3786"
             ],
             [
              0.5555555555555556,
              "#d8576b"
             ],
             [
              0.6666666666666666,
              "#ed7953"
             ],
             [
              0.7777777777777778,
              "#fb9f3a"
             ],
             [
              0.8888888888888888,
              "#fdca26"
             ],
             [
              1,
              "#f0f921"
             ]
            ],
            "type": "heatmap"
           }
          ],
          "heatmapgl": [
           {
            "colorbar": {
             "outlinewidth": 0,
             "ticks": ""
            },
            "colorscale": [
             [
              0,
              "#0d0887"
             ],
             [
              0.1111111111111111,
              "#46039f"
             ],
             [
              0.2222222222222222,
              "#7201a8"
             ],
             [
              0.3333333333333333,
              "#9c179e"
             ],
             [
              0.4444444444444444,
              "#bd3786"
             ],
             [
              0.5555555555555556,
              "#d8576b"
             ],
             [
              0.6666666666666666,
              "#ed7953"
             ],
             [
              0.7777777777777778,
              "#fb9f3a"
             ],
             [
              0.8888888888888888,
              "#fdca26"
             ],
             [
              1,
              "#f0f921"
             ]
            ],
            "type": "heatmapgl"
           }
          ],
          "histogram": [
           {
            "marker": {
             "pattern": {
              "fillmode": "overlay",
              "size": 10,
              "solidity": 0.2
             }
            },
            "type": "histogram"
           }
          ],
          "histogram2d": [
           {
            "colorbar": {
             "outlinewidth": 0,
             "ticks": ""
            },
            "colorscale": [
             [
              0,
              "#0d0887"
             ],
             [
              0.1111111111111111,
              "#46039f"
             ],
             [
              0.2222222222222222,
              "#7201a8"
             ],
             [
              0.3333333333333333,
              "#9c179e"
             ],
             [
              0.4444444444444444,
              "#bd3786"
             ],
             [
              0.5555555555555556,
              "#d8576b"
             ],
             [
              0.6666666666666666,
              "#ed7953"
             ],
             [
              0.7777777777777778,
              "#fb9f3a"
             ],
             [
              0.8888888888888888,
              "#fdca26"
             ],
             [
              1,
              "#f0f921"
             ]
            ],
            "type": "histogram2d"
           }
          ],
          "histogram2dcontour": [
           {
            "colorbar": {
             "outlinewidth": 0,
             "ticks": ""
            },
            "colorscale": [
             [
              0,
              "#0d0887"
             ],
             [
              0.1111111111111111,
              "#46039f"
             ],
             [
              0.2222222222222222,
              "#7201a8"
             ],
             [
              0.3333333333333333,
              "#9c179e"
             ],
             [
              0.4444444444444444,
              "#bd3786"
             ],
             [
              0.5555555555555556,
              "#d8576b"
             ],
             [
              0.6666666666666666,
              "#ed7953"
             ],
             [
              0.7777777777777778,
              "#fb9f3a"
             ],
             [
              0.8888888888888888,
              "#fdca26"
             ],
             [
              1,
              "#f0f921"
             ]
            ],
            "type": "histogram2dcontour"
           }
          ],
          "mesh3d": [
           {
            "colorbar": {
             "outlinewidth": 0,
             "ticks": ""
            },
            "type": "mesh3d"
           }
          ],
          "parcoords": [
           {
            "line": {
             "colorbar": {
              "outlinewidth": 0,
              "ticks": ""
             }
            },
            "type": "parcoords"
           }
          ],
          "pie": [
           {
            "automargin": true,
            "type": "pie"
           }
          ],
          "scatter": [
           {
            "marker": {
             "colorbar": {
              "outlinewidth": 0,
              "ticks": ""
             }
            },
            "type": "scatter"
           }
          ],
          "scatter3d": [
           {
            "line": {
             "colorbar": {
              "outlinewidth": 0,
              "ticks": ""
             }
            },
            "marker": {
             "colorbar": {
              "outlinewidth": 0,
              "ticks": ""
             }
            },
            "type": "scatter3d"
           }
          ],
          "scattercarpet": [
           {
            "marker": {
             "colorbar": {
              "outlinewidth": 0,
              "ticks": ""
             }
            },
            "type": "scattercarpet"
           }
          ],
          "scattergeo": [
           {
            "marker": {
             "colorbar": {
              "outlinewidth": 0,
              "ticks": ""
             }
            },
            "type": "scattergeo"
           }
          ],
          "scattergl": [
           {
            "marker": {
             "colorbar": {
              "outlinewidth": 0,
              "ticks": ""
             }
            },
            "type": "scattergl"
           }
          ],
          "scattermapbox": [
           {
            "marker": {
             "colorbar": {
              "outlinewidth": 0,
              "ticks": ""
             }
            },
            "type": "scattermapbox"
           }
          ],
          "scatterpolar": [
           {
            "marker": {
             "colorbar": {
              "outlinewidth": 0,
              "ticks": ""
             }
            },
            "type": "scatterpolar"
           }
          ],
          "scatterpolargl": [
           {
            "marker": {
             "colorbar": {
              "outlinewidth": 0,
              "ticks": ""
             }
            },
            "type": "scatterpolargl"
           }
          ],
          "scatterternary": [
           {
            "marker": {
             "colorbar": {
              "outlinewidth": 0,
              "ticks": ""
             }
            },
            "type": "scatterternary"
           }
          ],
          "surface": [
           {
            "colorbar": {
             "outlinewidth": 0,
             "ticks": ""
            },
            "colorscale": [
             [
              0,
              "#0d0887"
             ],
             [
              0.1111111111111111,
              "#46039f"
             ],
             [
              0.2222222222222222,
              "#7201a8"
             ],
             [
              0.3333333333333333,
              "#9c179e"
             ],
             [
              0.4444444444444444,
              "#bd3786"
             ],
             [
              0.5555555555555556,
              "#d8576b"
             ],
             [
              0.6666666666666666,
              "#ed7953"
             ],
             [
              0.7777777777777778,
              "#fb9f3a"
             ],
             [
              0.8888888888888888,
              "#fdca26"
             ],
             [
              1,
              "#f0f921"
             ]
            ],
            "type": "surface"
           }
          ],
          "table": [
           {
            "cells": {
             "fill": {
              "color": "#EBF0F8"
             },
             "line": {
              "color": "white"
             }
            },
            "header": {
             "fill": {
              "color": "#C8D4E3"
             },
             "line": {
              "color": "white"
             }
            },
            "type": "table"
           }
          ]
         },
         "layout": {
          "annotationdefaults": {
           "arrowcolor": "#2a3f5f",
           "arrowhead": 0,
           "arrowwidth": 1
          },
          "autotypenumbers": "strict",
          "coloraxis": {
           "colorbar": {
            "outlinewidth": 0,
            "ticks": ""
           }
          },
          "colorscale": {
           "diverging": [
            [
             0,
             "#8e0152"
            ],
            [
             0.1,
             "#c51b7d"
            ],
            [
             0.2,
             "#de77ae"
            ],
            [
             0.3,
             "#f1b6da"
            ],
            [
             0.4,
             "#fde0ef"
            ],
            [
             0.5,
             "#f7f7f7"
            ],
            [
             0.6,
             "#e6f5d0"
            ],
            [
             0.7,
             "#b8e186"
            ],
            [
             0.8,
             "#7fbc41"
            ],
            [
             0.9,
             "#4d9221"
            ],
            [
             1,
             "#276419"
            ]
           ],
           "sequential": [
            [
             0,
             "#0d0887"
            ],
            [
             0.1111111111111111,
             "#46039f"
            ],
            [
             0.2222222222222222,
             "#7201a8"
            ],
            [
             0.3333333333333333,
             "#9c179e"
            ],
            [
             0.4444444444444444,
             "#bd3786"
            ],
            [
             0.5555555555555556,
             "#d8576b"
            ],
            [
             0.6666666666666666,
             "#ed7953"
            ],
            [
             0.7777777777777778,
             "#fb9f3a"
            ],
            [
             0.8888888888888888,
             "#fdca26"
            ],
            [
             1,
             "#f0f921"
            ]
           ],
           "sequentialminus": [
            [
             0,
             "#0d0887"
            ],
            [
             0.1111111111111111,
             "#46039f"
            ],
            [
             0.2222222222222222,
             "#7201a8"
            ],
            [
             0.3333333333333333,
             "#9c179e"
            ],
            [
             0.4444444444444444,
             "#bd3786"
            ],
            [
             0.5555555555555556,
             "#d8576b"
            ],
            [
             0.6666666666666666,
             "#ed7953"
            ],
            [
             0.7777777777777778,
             "#fb9f3a"
            ],
            [
             0.8888888888888888,
             "#fdca26"
            ],
            [
             1,
             "#f0f921"
            ]
           ]
          },
          "colorway": [
           "#636efa",
           "#EF553B",
           "#00cc96",
           "#ab63fa",
           "#FFA15A",
           "#19d3f3",
           "#FF6692",
           "#B6E880",
           "#FF97FF",
           "#FECB52"
          ],
          "font": {
           "color": "#2a3f5f"
          },
          "geo": {
           "bgcolor": "white",
           "lakecolor": "white",
           "landcolor": "#E5ECF6",
           "showlakes": true,
           "showland": true,
           "subunitcolor": "white"
          },
          "hoverlabel": {
           "align": "left"
          },
          "hovermode": "closest",
          "mapbox": {
           "style": "light"
          },
          "paper_bgcolor": "white",
          "plot_bgcolor": "#E5ECF6",
          "polar": {
           "angularaxis": {
            "gridcolor": "white",
            "linecolor": "white",
            "ticks": ""
           },
           "bgcolor": "#E5ECF6",
           "radialaxis": {
            "gridcolor": "white",
            "linecolor": "white",
            "ticks": ""
           }
          },
          "scene": {
           "xaxis": {
            "backgroundcolor": "#E5ECF6",
            "gridcolor": "white",
            "gridwidth": 2,
            "linecolor": "white",
            "showbackground": true,
            "ticks": "",
            "zerolinecolor": "white"
           },
           "yaxis": {
            "backgroundcolor": "#E5ECF6",
            "gridcolor": "white",
            "gridwidth": 2,
            "linecolor": "white",
            "showbackground": true,
            "ticks": "",
            "zerolinecolor": "white"
           },
           "zaxis": {
            "backgroundcolor": "#E5ECF6",
            "gridcolor": "white",
            "gridwidth": 2,
            "linecolor": "white",
            "showbackground": true,
            "ticks": "",
            "zerolinecolor": "white"
           }
          },
          "shapedefaults": {
           "line": {
            "color": "#2a3f5f"
           }
          },
          "ternary": {
           "aaxis": {
            "gridcolor": "white",
            "linecolor": "white",
            "ticks": ""
           },
           "baxis": {
            "gridcolor": "white",
            "linecolor": "white",
            "ticks": ""
           },
           "bgcolor": "#E5ECF6",
           "caxis": {
            "gridcolor": "white",
            "linecolor": "white",
            "ticks": ""
           }
          },
          "title": {
           "x": 0.05
          },
          "xaxis": {
           "automargin": true,
           "gridcolor": "white",
           "linecolor": "white",
           "ticks": "",
           "title": {
            "standoff": 15
           },
           "zerolinecolor": "white",
           "zerolinewidth": 2
          },
          "yaxis": {
           "automargin": true,
           "gridcolor": "white",
           "linecolor": "white",
           "ticks": "",
           "title": {
            "standoff": 15
           },
           "zerolinecolor": "white",
           "zerolinewidth": 2
          }
         }
        },
        "title": {
         "text": "Car Gass Mileage vs Car Weight Modeled Using Gaussian Processes"
        },
        "xaxis": {
         "title": {
          "text": "Car Weight [Mean Subtracted Kg]"
         }
        },
        "yaxis": {
         "title": {
          "text": "Mileage [Mean subtracted Miles/Gallon]"
         }
        }
       }
      }
     },
     "metadata": {},
     "output_type": "display_data"
    }
   ],
   "source": [
    "import plotly.express as px\n",
    "import plotly.graph_objects as go\n",
    "import numpy as np\n",
    "\n",
    "fig = go.Figure()\n",
    "\n",
    "# Add traces\n",
    "fig.add_trace(go.Scatter(mode=\"markers\", x=X_train_prepared[:,0], y=y_train[:,0], name=\"training data\"))\n",
    "fig.add_trace(go.Scatter(mode=\"lines\", x=x_stepped[:,0], y=y_stepped[:,0], name=\"prediction\"))\n",
    "fig.update_layout(title=\"Car Gass Mileage vs Car Weight Modeled Using Gaussian Processes\", xaxis_title=\"Car Weight [Mean Subtracted Kg]\", yaxis_title=\"Mileage [Mean subtracted Miles/Gallon]\")\n",
    "\n",
    "fig.show()"
   ]
  },
  {
   "cell_type": "code",
   "execution_count": null,
   "metadata": {},
   "outputs": [],
   "source": []
  }
 ],
 "metadata": {
  "interpreter": {
   "hash": "d35876ac6c4cca4418adb3abbfbb3a8e7704a0ecc1db87d16d590d4774437b1e"
  },
  "kernelspec": {
   "display_name": "Python 3.7.9 64-bit ('sandbox2': virtualenv)",
   "name": "python3"
  },
  "language_info": {
   "codemirror_mode": {
    "name": "ipython",
    "version": 3
   },
   "file_extension": ".py",
   "mimetype": "text/x-python",
   "name": "python",
   "nbconvert_exporter": "python",
   "pygments_lexer": "ipython3",
   "version": "3.7.9"
  },
  "orig_nbformat": 4
 },
 "nbformat": 4,
 "nbformat_minor": 2
}
